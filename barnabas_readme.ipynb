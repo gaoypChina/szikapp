{
 "metadata": {
  "language_info": {
   "codemirror_mode": {
    "name": "ipython",
    "version": 3
   },
   "file_extension": ".py",
   "mimetype": "text/x-python",
   "name": "python",
   "nbconvert_exporter": "python",
   "pygments_lexer": "ipython3",
   "version": 3
  },
  "orig_nbformat": 2
 },
 "nbformat": 4,
 "nbformat_minor": 2,
 "cells": [
  {
   "source": [
    "# Hátralévő feladatok\n",
    "\n",
    "a) `signIn()` függvény\n",
    " - `UserData`-ból, és a `currentUser` profilképjéből kreálja meg a `User` objektumot a `user.User()` függvény segítségével.\n",
    "\n",
    "b) `signOut()` függvény\n",
    " - Egy plusz függvény, ami kijelentkeztetésnél felhasználja a `firebase` kijelentkeztetőjét, és egyúttal meg is semmisíti a `User` objektum adatait. "
   ],
   "cell_type": "markdown",
   "metadata": {}
  },
  {
   "source": [
    "# Megjegyzések\n",
    "\n",
    "- Az `IO` egy singleton osztály, ezért csak úgy lehet meghívni függvényeit, ha előtte példányosítjuk. "
   ],
   "cell_type": "markdown",
   "metadata": {}
  }
 ]
}